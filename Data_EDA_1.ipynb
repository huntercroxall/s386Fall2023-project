{
 "cells": [
  {
   "cell_type": "code",
   "execution_count": 1,
   "metadata": {},
   "outputs": [
    {
     "name": "stdout",
     "output_type": "stream",
     "text": [
      "Hello World\n"
     ]
    }
   ],
   "source": [
    "print(\"Hello World\")"
   ]
  },
  {
   "cell_type": "code",
   "execution_count": 28,
   "metadata": {},
   "outputs": [],
   "source": [
    "with open('api_keys.txt', 'r') as api_key_file:\n",
    "   api_key = api_key_file.read().strip()"
   ]
  },
  {
   "cell_type": "code",
   "execution_count": 1,
   "metadata": {},
   "outputs": [
    {
     "name": "stdout",
     "output_type": "stream",
     "text": [
      "Collecting simplejson\n",
      "  Obtaining dependency information for simplejson from https://files.pythonhosted.org/packages/ca/c7/a530c9aba6a47823df3d46f20ce09be730d04aeb67aaef057a7c515654bd/simplejson-3.19.2-cp310-cp310-macosx_10_9_x86_64.whl.metadata\n",
      "  Downloading simplejson-3.19.2-cp310-cp310-macosx_10_9_x86_64.whl.metadata (3.1 kB)\n",
      "Downloading simplejson-3.19.2-cp310-cp310-macosx_10_9_x86_64.whl (76 kB)\n",
      "\u001b[2K   \u001b[90m━━━━━━━━━━━━━━━━━━━━━━━━━━━━━━━━━━━━━━━━\u001b[0m \u001b[32m76.4/76.4 kB\u001b[0m \u001b[31m1.1 MB/s\u001b[0m eta \u001b[36m0:00:00\u001b[0ma \u001b[36m0:00:01\u001b[0m\n",
      "\u001b[?25hInstalling collected packages: simplejson\n",
      "Successfully installed simplejson-3.19.2\n",
      "Note: you may need to restart the kernel to use updated packages.\n"
     ]
    }
   ],
   "source": [
    "%pip install simplejson"
   ]
  },
  {
   "cell_type": "code",
   "execution_count": 48,
   "metadata": {},
   "outputs": [],
   "source": [
    "import pandas as pd\n",
    "import requests\n",
    "import seaborn as sns\n",
    "import matplotlib.pyplot as plt"
   ]
  },
  {
   "cell_type": "code",
   "execution_count": 74,
   "metadata": {},
   "outputs": [],
   "source": [
    "endpoint = \"https://api.fda.gov/food/enforcement.json\"\n",
    "\n",
    "# Set your query parameters\n",
    "params = {\n",
    "    'search':'reason_for_recall:\"egg\"',\n",
    "    'limit': 200  # Adjust the limit based on your needs\n",
    "}\n",
    "\n",
    "headers = {\n",
    "    'Content-Type': 'application/json',\n",
    "    'api_key': api_key\n",
    "}\n",
    "\n",
    "response = requests.get(endpoint, params=params, headers=headers)\n",
    "\n",
    "if response.status_code == 200:\n",
    "    data = response.json()\n",
    "else:\n",
    "    print(\"Error:\", response.status_code)"
   ]
  },
  {
   "cell_type": "code",
   "execution_count": 66,
   "metadata": {},
   "outputs": [],
   "source": [
    "import pandas as pd\n",
    "\n",
    "results = data.get('results', [])\n",
    "\n",
    "df = pd.DataFrame(results)"
   ]
  },
  {
   "cell_type": "code",
   "execution_count": 67,
   "metadata": {},
   "outputs": [
    {
     "name": "stdout",
     "output_type": "stream",
     "text": [
      "         status            city state        country classification openfda  \\\n",
      "0    Terminated        Monterey    CA  United States        Class I      {}   \n",
      "1    Terminated      Amityville    NY  United States       Class II      {}   \n",
      "2    Terminated       Oak Brook    IL  United States        Class I      {}   \n",
      "3    Terminated        Portland    OR  United States       Class II      {}   \n",
      "4    Terminated         Atlanta    GA  United States       Class II      {}   \n",
      "..          ...             ...   ...            ...            ...     ...   \n",
      "195  Terminated          Corona    CA  United States       Class II      {}   \n",
      "196  Terminated        Monterey    CA  United States        Class I      {}   \n",
      "197  Terminated  Salt Lake City    UT  United States        Class I      {}   \n",
      "198     Ongoing        Norcross    GA  United States        Class I      {}   \n",
      "199  Terminated          Kearns    UT  United States       Class II      {}   \n",
      "\n",
      "    product_type event_id                          recalling_firm  \\\n",
      "0           Food    89381               Dole Fresh Vegetables Inc   \n",
      "1           Food    66765         Global Health Laboratories, LLC   \n",
      "2           Food    74041                         Treehouse Foods   \n",
      "3           Food    71141                Regency Group, Inc., The   \n",
      "4           Food    70581  Lavoi Corporation d/b/a/ Epi De France   \n",
      "..           ...      ...                                     ...   \n",
      "195         Food    81438                     Cadence Gourmet LLC   \n",
      "196         Food    89381               Dole Fresh Vegetables Inc   \n",
      "197         Food    83297                              Probar LLC   \n",
      "198         Food    87655                 Hi Tech Pharmaceuticals   \n",
      "199         Food    67205                      Condies Foods, Inc   \n",
      "\n",
      "                  address_1  ... recall_number  \\\n",
      "0          2959 Salinas Hwy  ...   F-0757-2022   \n",
      "1    9500 New Horizons Blvd  ...   F-1105-2014   \n",
      "2    2021 Spring Rd Ste 600  ...   F-2425-2016   \n",
      "3       13320 NE Jarrett St  ...   F-2329-2015   \n",
      "4        1757 Tullie Cir Ne  ...   F-2745-2015   \n",
      "..                      ...  ...           ...   \n",
      "195            155 Klug Cir  ...   F-0623-2019   \n",
      "196        2959 Salinas Hwy  ...   F-0762-2022   \n",
      "197         190 N Apollo Rd  ...   F-1965-2019   \n",
      "198     6015 Unity Dr Ste B  ...   F-0510-2021   \n",
      "199           4850 S 5300 W  ...   F-1444-2014   \n",
      "\n",
      "                                   product_description  \\\n",
      "0    Marketside 12oz Classic Salad  UPC:6-81131-328...   \n",
      "1    UT-Fem¿ FOR WOMEN, urinary tract SOLUTION, Die...   \n",
      "2    UPC  071725748010,\\tSunflower Seeds Roasted an...   \n",
      "3    Oregano, Mediterranean ground, stock code 0335...   \n",
      "4    Epi breads, 12\" French Sub-roll, 36 count per ...   \n",
      "..                                                 ...   \n",
      "195  Roasted Corn Salsa;  Net Weight: 10 lbs. (10 x...   \n",
      "196  Presidents Choice 12.25oz Ranch Kit / Le Choix...   \n",
      "197  PROBAR MEAL Superfood Slam, Net Wt. 3oz.(85g),...   \n",
      "198  IFN iFORCE NUTRITION MASS GAINZ PROTEIN MATRIX...   \n",
      "199  Condies Food fine shred lettuce, and 1/4 shred...   \n",
      "\n",
      "                                      product_quantity  \\\n",
      "0                                                        \n",
      "1                                         1495 bottles   \n",
      "2                        92,865 cases for all products   \n",
      "3                                          552.50 lbs.   \n",
      "4                                                        \n",
      "..                                                 ...   \n",
      "195                                          55,880 lb   \n",
      "196    OH/CA Total Distributed Combined: 578,243 cases   \n",
      "197                                         2,908 bars   \n",
      "198             4.85lb - 121 jugs + 10lb - 499 pouches   \n",
      "199  Fine shred lettuce (1-7): 90 cases; 1/4 shred ...   \n",
      "\n",
      "                                     reason_for_recall recall_initiation_date  \\\n",
      "0    Harvest equipment used in harvesting raw icebe...               20220106   \n",
      "1    The finished dietary supplement product was ma...               20131107   \n",
      "2    TreeHouse Foods is recalling products that may...               20160503   \n",
      "3    Bulk ground oregano is recalled due to contami...               20150430   \n",
      "4    Undeclared allergen: Bread products were manuf...               20150224   \n",
      "..                                                 ...                    ...   \n",
      "195  Recall of products manufactured with vegetable...               20181018   \n",
      "196  Harvest equipment used in harvesting raw icebe...               20220106   \n",
      "197  Chocolate chip containing meal bars potentiall...               20190709   \n",
      "198  During an inspection by the FDA the firm was n...               20210403   \n",
      "199  A piece of hard brittle plastic was found insi...               20140102   \n",
      "\n",
      "    center_classification_date termination_date report_date  \\\n",
      "0                     20220222         20220322    20220302   \n",
      "1                     20131218         20170308    20131225   \n",
      "2                     20160930         20170815    20161012   \n",
      "3                     20150528         20150825    20150603   \n",
      "4                     20150622         20170706    20150701   \n",
      "..                         ...              ...         ...   \n",
      "195                   20181116         20190220    20181128   \n",
      "196                   20220222         20220322    20220302   \n",
      "197                   20190802         20220427    20190731   \n",
      "198                   20210518              NaN    20210526   \n",
      "199                   20140127         20140417    20140205   \n",
      "\n",
      "                                             code_info more_code_info  \n",
      "0    Product codes beginning with B - Best by Dates...                 \n",
      "1                                   Lot Number 1256074            NaN  \n",
      "2    Best By/Date Code: 11/26/2016, 11/27/2016, .1/...            NaN  \n",
      "3                                     Lot 03355-140121                 \n",
      "4                 Reference no. 10048, 10943 and 10947                 \n",
      "..                                                 ...            ...  \n",
      "195  Product number: CBC004  Lot/Batch numbers:  18...                 \n",
      "196  Product codes beginning with B - Best by Dates...                 \n",
      "197                                     Lot Code 29122            NaN  \n",
      "198  4.85lb - All EXP DATES up to and including 01/...            NaN  \n",
      "199      Fine shred lettuce 1-7; 1/4 shred lettuce 1-6                 \n",
      "\n",
      "[200 rows x 25 columns]\n"
     ]
    }
   ],
   "source": [
    "print(df)"
   ]
  },
  {
   "cell_type": "code",
   "execution_count": 75,
   "metadata": {},
   "outputs": [
    {
     "data": {
      "text/plain": [
       "Text(0.5, 1.0, 'Count of Recalls for Egg-Related Product Issues by State')"
      ]
     },
     "execution_count": 75,
     "metadata": {},
     "output_type": "execute_result"
    },
    {
     "data": {
      "image/png": "[encoded data removed]",
      "text/plain": [
       "<Figure size 1000x600 with 1 Axes>"
      ]
     },
     "metadata": {},
     "output_type": "display_data"
    }
   ],
   "source": [
    "category_order = df['state'].value_counts().index\n",
    "plt.figure(figsize=(10, 6))\n",
    "sns.countplot(df, x=\"state\", order = category_order)\n",
    "plt.xticks(rotation=90) \n",
    "plt.title(\"Count of Recalls for Egg-Related Product Issues by State\")"
   ]
  },
  {
   "cell_type": "code",
   "execution_count": 76,
   "metadata": {},
   "outputs": [],
   "source": [
    "df.to_csv('FDA_egg_stats.csv', index=False)"
   ]
  },
  {
   "cell_type": "code",
   "execution_count": null,
   "metadata": {},
   "outputs": [],
   "source": []
  }
 ],
 "metadata": {
  "kernelspec": {
   "display_name": "stat386",
   "language": "python",
   "name": "python3"
  },
  "language_info": {
   "codemirror_mode": {
    "name": "ipython",
    "version": 3
   },
   "file_extension": ".py",
   "mimetype": "text/x-python",
   "name": "python",
   "nbconvert_exporter": "python",
   "pygments_lexer": "ipython3",
   "version": "3.10.12"
  }
 },
 "nbformat": 4,
 "nbformat_minor": 2
}
