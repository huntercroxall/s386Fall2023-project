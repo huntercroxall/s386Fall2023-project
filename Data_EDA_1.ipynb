{
 "cells": [
  {
   "cell_type": "code",
   "execution_count": 1,
   "metadata": {},
   "outputs": [
    {
     "name": "stdout",
     "output_type": "stream",
     "text": [
      "Hello World\n"
     ]
    }
   ],
   "source": [
    "print(\"Hello World\")"
   ]
  },
  {
   "cell_type": "code",
   "execution_count": 2,
   "metadata": {},
   "outputs": [],
   "source": [
    "with open('api_keys.txt', 'r') as api_key_file:\n",
    "   api_key = api_key_file.read().strip()"
   ]
  },
  {
   "cell_type": "code",
   "execution_count": 3,
   "metadata": {},
   "outputs": [
    {
     "name": "stdout",
     "output_type": "stream",
     "text": [
      "Requirement already satisfied: simplejson in /Users/huntercroxall/anaconda3/envs/stat386/lib/python3.10/site-packages (3.19.2)\n",
      "Note: you may need to restart the kernel to use updated packages.\n"
     ]
    }
   ],
   "source": [
    "%pip install simplejson"
   ]
  },
  {
   "cell_type": "code",
   "execution_count": 4,
   "metadata": {},
   "outputs": [],
   "source": [
    "import pandas as pd\n",
    "import requests\n",
    "import seaborn as sns\n",
    "import matplotlib.pyplot as plt"
   ]
  },
  {
   "cell_type": "code",
   "execution_count": 10,
   "metadata": {},
   "outputs": [],
   "source": [
    "endpoint = \"https://api.fda.gov/food/enforcement.json\"\n",
    "\n",
    "params = {\n",
    "    'search':'reason_for_recall:\"egg\"',\n",
    "    'limit': 500\n",
    "}\n",
    "\n",
    "headers = {\n",
    "    'Content-Type': 'application/json',\n",
    "    'api_key': api_key\n",
    "}\n",
    "\n",
    "response = requests.get(endpoint, params=params, headers=headers)\n",
    "\n",
    "if response.status_code == 200:\n",
    "    data = response.json()\n",
    "else:\n",
    "    print(\"Error:\", response.status_code)"
   ]
  },
  {
   "cell_type": "code",
   "execution_count": 12,
   "metadata": {},
   "outputs": [],
   "source": [
    "import pandas as pd\n",
    "\n",
    "results = data.get('results', [])\n",
    "\n",
    "df = pd.DataFrame(results)"
   ]
  },
  {
   "cell_type": "code",
   "execution_count": 13,
   "metadata": {},
   "outputs": [
    {
     "name": "stdout",
     "output_type": "stream",
     "text": [
      "           country              city                      address_1  \\\n",
      "0    United States            Kearns                  4850 S 5300 W   \n",
      "1    United States         La Crosse                    1626 Oak St   \n",
      "2    United States          Brooklyn                   4120 2nd Ave   \n",
      "3    United States        Pittsburgh                   101 Kappa Dr   \n",
      "4    United States            Austin       601 N Lamar Blvd Ste 300   \n",
      "..             ...               ...                            ...   \n",
      "495  United States            Austin                   550 Bowie St   \n",
      "496  United States  Santa Fe Springs                 13409 Orden Dr   \n",
      "497  United States             Bronx                  3958 Park Ave   \n",
      "498  United States          Glendale                    601 Vine St   \n",
      "499  United States              Kent  23444 30th Ave S., Space #104   \n",
      "\n",
      "                                     reason_for_recall address_2  \\\n",
      "0    Condies Foods is recalling Veggie Cups due to ...             \n",
      "1    Kwik Trip is recalling Kitchen's Cravings Prem...             \n",
      "2    Products contain undeclared allergen, specific...             \n",
      "3    On 3/20/2015, it was discovered that the label...             \n",
      "4                              Undeclared egg allergen             \n",
      "..                                                 ...       ...   \n",
      "495  This product (one specific lot code) was being...             \n",
      "496  Fish Cake items contain possible contaminating...             \n",
      "497  Golden Krust Caribbean Bakery & Grill has reca...             \n",
      "498  Sugar Flowers Plus Inc of Glendale, CA is reca...             \n",
      "499  Butter Creek Farms, Inc.  is recalling Oatmeal...             \n",
      "\n",
      "                                      product_quantity  \\\n",
      "0                                            166 cases   \n",
      "1                                          4,957 units   \n",
      "2    40 cartons; 50-200g packets/carton; total: 2,0...   \n",
      "3                          Apricot Filled 2731 cookies   \n",
      "4                                            251 units   \n",
      "..                                                 ...   \n",
      "495                            56 cases (1120 cartons)   \n",
      "496                                        26,783 pcs.   \n",
      "497                              3,806 cases/50 pieces   \n",
      "498                                                      \n",
      "499                                            unknown   \n",
      "\n",
      "                                             code_info  \\\n",
      "0                                 USE THRU 01/05/2018,   \n",
      "1    Sell By dates:  3/25/18, 3/26/18, 3/27/18, 3/2...   \n",
      "2                UPC: 8 886325 910123; Exp: 01/19/2020   \n",
      "3                            all dates up to 3/23/2015   \n",
      "4                  UPC 2 28719 00499 1  and  PLU #8719   \n",
      "..                                                 ...   \n",
      "495    UPC Code: 0 99482 43112 9; Lot Code: Lot 142251   \n",
      "496                                 Item number #92526   \n",
      "497      expiration dates: 1/24/2015 through 2/26/2016   \n",
      "498            Rose - Yellow UPC code: 8 38437 00001 6   \n",
      "499                                               none   \n",
      "\n",
      "    center_classification_date  \\\n",
      "0                     20180130   \n",
      "1                     20180419   \n",
      "2                     20191002   \n",
      "3                     20150604   \n",
      "4                     20141006   \n",
      "..                         ...   \n",
      "495                   20130313   \n",
      "496                   20190807   \n",
      "497                   20150611   \n",
      "498                   20130117   \n",
      "499                   20140331   \n",
      "\n",
      "                                  distribution_pattern state  ...  \\\n",
      "0    Distributed to Coremark's 124 stores around th...    UT  ...   \n",
      "1                                           IA, MN, WI    WI  ...   \n",
      "2             Products were distributed in: MA, PA, CT    NY  ...   \n",
      "3                                          MD OH PA WV    PA  ...   \n",
      "4             Texas, Oklahoma, Arkansas, and Louisiana    TX  ...   \n",
      "..                                                 ...   ...  ...   \n",
      "495        AL, DC, GA, MD, NC, NJ, PA, SC, TN, and VA.    TX  ...   \n",
      "496  AK, AL, AR, AZ, CA, CO, CT, DC, FL, GA, HI, IL...    CA  ...   \n",
      "497  CT, NJ, NY, MA via Golden Krust stores and CA,...    NY  ...   \n",
      "498                                        Nationwide.    CA  ...   \n",
      "499  sold to internet customers from the website co...    WA  ...   \n",
      "\n",
      "    recall_number                          initial_firm_notification  \\\n",
      "0     F-0683-2018  Two or more of the following: Email, Fax, Lett...   \n",
      "1     F-1110-2018  Two or more of the following: Email, Fax, Lett...   \n",
      "2     F-0003-2020  Two or more of the following: Email, Fax, Lett...   \n",
      "3     F-2187-2015                                             E-Mail   \n",
      "4     F-0001-2015  Two or more of the following: Email, Fax, Lett...   \n",
      "..            ...                                                ...   \n",
      "495   F-1144-2013                                             E-Mail   \n",
      "496   F-1974-2019                                             Letter   \n",
      "497   F-2429-2015  Two or more of the following: Email, Fax, Lett...   \n",
      "498   F-0900-2013                                      Press Release   \n",
      "499   F-1737-2014  Two or more of the following: Email, Fax, Lett...   \n",
      "\n",
      "    product_type event_id termination_date recall_initiation_date postal_code  \\\n",
      "0           Food    78866         20180412               20180102  84118-6383   \n",
      "1           Food    79632         20180807               20180323  54603-2308   \n",
      "2           Food    83624         20200804               20190822  11232-3315   \n",
      "3           Food    70792         20150817               20150320  15238-2809   \n",
      "4           Food    68050         20150202               20140418  78703-5424   \n",
      "..           ...      ...              ...                    ...         ...   \n",
      "495         Food    64498         20130604               20121120  78703-4648   \n",
      "496         Food    83325         20200128               20190711  90670-6336   \n",
      "497         Food    71159         20170509               20150506  10457-8014   \n",
      "498         Food    63839         20130913               20121207   912041417   \n",
      "499         Food    67300         20140924               20131231  98032-2807   \n",
      "\n",
      "            voluntary_mandated      status more_code_info  \n",
      "0    Voluntary: Firm initiated  Terminated            NaN  \n",
      "1    Voluntary: Firm initiated  Terminated                 \n",
      "2    Voluntary: Firm initiated  Terminated                 \n",
      "3    Voluntary: Firm initiated  Terminated            NaN  \n",
      "4    Voluntary: Firm initiated  Terminated                 \n",
      "..                         ...         ...            ...  \n",
      "495  Voluntary: Firm initiated  Terminated                 \n",
      "496  Voluntary: Firm initiated  Terminated            NaN  \n",
      "497  Voluntary: Firm initiated  Terminated            NaN  \n",
      "498  Voluntary: Firm initiated  Terminated            NaN  \n",
      "499  Voluntary: Firm initiated  Terminated            NaN  \n",
      "\n",
      "[500 rows x 25 columns]\n"
     ]
    }
   ],
   "source": [
    "print(df)"
   ]
  },
  {
   "cell_type": "code",
   "execution_count": 14,
   "metadata": {},
   "outputs": [
    {
     "data": {
      "text/plain": [
       "Text(0.5, 1.0, 'Count of Recalls for Egg-Related Product Issues by Classification')"
      ]
     },
     "execution_count": 14,
     "metadata": {},
     "output_type": "execute_result"
    },
    {
     "data": {
      "image/png": "[encoded data removed]",
      "text/plain": [
       "<Figure size 1000x600 with 1 Axes>"
      ]
     },
     "metadata": {},
     "output_type": "display_data"
    }
   ],
   "source": [
    "category_order = df['classification'].value_counts().index\n",
    "plt.figure(figsize=(10, 6))\n",
    "sns.countplot(df, x=\"classification\", order = category_order)\n",
    "plt.xticks(rotation=90) \n",
    "plt.title(\"Count of Recalls for Egg-Related Product Issues by Classification\")"
   ]
  },
  {
   "cell_type": "code",
   "execution_count": 15,
   "metadata": {},
   "outputs": [],
   "source": [
    "df.to_csv('FDA_egg_stats.csv', index=False)"
   ]
  },
  {
   "cell_type": "code",
   "execution_count": null,
   "metadata": {},
   "outputs": [],
   "source": []
  }
 ],
 "metadata": {
  "kernelspec": {
   "display_name": "stat386",
   "language": "python",
   "name": "python3"
  },
  "language_info": {
   "codemirror_mode": {
    "name": "ipython",
    "version": 3
   },
   "file_extension": ".py",
   "mimetype": "text/x-python",
   "name": "python",
   "nbconvert_exporter": "python",
   "pygments_lexer": "ipython3",
   "version": "3.10.12"
  }
 },
 "nbformat": 4,
 "nbformat_minor": 2
}
