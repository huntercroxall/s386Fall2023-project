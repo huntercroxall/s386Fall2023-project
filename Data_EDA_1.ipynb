{
 "cells": [
  {
   "cell_type": "code",
   "execution_count": 1,
   "metadata": {},
   "outputs": [
    {
     "name": "stdout",
     "output_type": "stream",
     "text": [
      "Hello World\n"
     ]
    }
   ],
   "source": [
    "print(\"Hello World\")"
   ]
  },
  {
   "cell_type": "code",
   "execution_count": 28,
   "metadata": {},
   "outputs": [],
   "source": [
    "with open('api_keys.txt', 'r') as api_key_file:\n",
    "   api_key = api_key_file.read().strip()"
   ]
  },
  {
   "cell_type": "code",
   "execution_count": 1,
   "metadata": {},
   "outputs": [
    {
     "name": "stdout",
     "output_type": "stream",
     "text": [
      "Collecting simplejson\n",
      "  Obtaining dependency information for simplejson from https://files.pythonhosted.org/packages/ca/c7/a530c9aba6a47823df3d46f20ce09be730d04aeb67aaef057a7c515654bd/simplejson-3.19.2-cp310-cp310-macosx_10_9_x86_64.whl.metadata\n",
      "  Downloading simplejson-3.19.2-cp310-cp310-macosx_10_9_x86_64.whl.metadata (3.1 kB)\n",
      "Downloading simplejson-3.19.2-cp310-cp310-macosx_10_9_x86_64.whl (76 kB)\n",
      "\u001b[2K   \u001b[90m━━━━━━━━━━━━━━━━━━━━━━━━━━━━━━━━━━━━━━━━\u001b[0m \u001b[32m76.4/76.4 kB\u001b[0m \u001b[31m1.1 MB/s\u001b[0m eta \u001b[36m0:00:00\u001b[0ma \u001b[36m0:00:01\u001b[0m\n",
      "\u001b[?25hInstalling collected packages: simplejson\n",
      "Successfully installed simplejson-3.19.2\n",
      "Note: you may need to restart the kernel to use updated packages.\n"
     ]
    }
   ],
   "source": [
    "%pip install simplejson"
   ]
  },
  {
   "cell_type": "code",
   "execution_count": 12,
   "metadata": {},
   "outputs": [],
   "source": [
    "import pandas as pd\n",
    "import requests"
   ]
  },
  {
   "cell_type": "code",
   "execution_count": 42,
   "metadata": {},
   "outputs": [],
   "source": [
    "endpoint = \"https://api.fda.gov/food/enforcement.json\"\n",
    "\n",
    "# Set your query parameters\n",
    "params = {\n",
    "    'search': 'state:UT',\n",
    "    'limit': 200  # Adjust the limit based on your needs\n",
    "}\n",
    "\n",
    "headers = {\n",
    "    'Content-Type': 'application/json',\n",
    "    'api_key': api_key\n",
    "}\n",
    "\n",
    "response = requests.get(endpoint, params=params, headers=headers)\n",
    "\n",
    "if response.status_code == 200:\n",
    "    data = response.json()\n",
    "else:\n",
    "    print(\"Error:\", response.status_code)"
   ]
  },
  {
   "cell_type": "code",
   "execution_count": 43,
   "metadata": {},
   "outputs": [],
   "source": [
    "import pandas as pd\n",
    "\n",
    "results = data.get('results', [])\n",
    "\n",
    "df = pd.DataFrame(results)"
   ]
  },
  {
   "cell_type": "code",
   "execution_count": 44,
   "metadata": {},
   "outputs": [
    {
     "name": "stdout",
     "output_type": "stream",
     "text": [
      "           country              city           address_1  \\\n",
      "0    United States            Kearns       4850 S 5300 W   \n",
      "1    United States            Murray        747 W 4170 S   \n",
      "2    United States     American Fork         708 S 500 E   \n",
      "3    United States    Salt Lake City   440 W Lawndale Dr   \n",
      "4    United States       Springville        1086 N 450 W   \n",
      "..             ...               ...                 ...   \n",
      "170  United States    Salt Lake City   440 W Lawndale Dr   \n",
      "171  United States            Lindon         1453 W 40 S   \n",
      "172  United States  West Valley City       2269 S 3270 W   \n",
      "173  United States    Salt Lake City       3628 W 1820 S   \n",
      "174  United States    Salt Lake City  3453 S West Temple   \n",
      "\n",
      "                                     reason_for_recall address_2  \\\n",
      "0    Condies Foods is recalling Veggie Cups due to ...             \n",
      "1    Firm received complaints of leaking, black liq...             \n",
      "2    Products may be moldy prior to the end of the ...             \n",
      "3    Products are labeled gluten-free. A batch of f...             \n",
      "4    Recalling Red Suma, Green Suma, Red Hulu 2, Gr...             \n",
      "..                                                 ...       ...   \n",
      "170  Products are labeled gluten-free. A batch of f...             \n",
      "171  The firm announced a voluntary recall of vario...             \n",
      "172  Swire Coca Cola is recalling certain Diet Dr P...             \n",
      "173  Product utilized a gluten-free claim but has a...             \n",
      "174  Samples collected by public health officials f...             \n",
      "\n",
      "                       product_quantity  \\\n",
      "0                             166 cases   \n",
      "1    10,922 boxes (250 vials/box) total   \n",
      "2                           79,500 bars   \n",
      "3                       523 cases of 12   \n",
      "4                                         \n",
      "..                                  ...   \n",
      "170                     118 cases of 12   \n",
      "171                           310 units   \n",
      "172                           366 cases   \n",
      "173            17 cases, 4 bottles/case   \n",
      "174                             unknown   \n",
      "\n",
      "                                             code_info  \\\n",
      "0                                 USE THRU 01/05/2018,   \n",
      "1    VPSU15032250 21029a 03/31/2023 VPSU15032250 21...   \n",
      "2    2004524, date 20045, Expiration 10/14/2020;  2...   \n",
      "3                                              20223-1   \n",
      "4    Everything manufactured between 1/1/18 to 4/12...   \n",
      "..                                                 ...   \n",
      "170                                            20226-4   \n",
      "171                                      Lot: 142913-E   \n",
      "172                             Date Code:  JUN1818TOA   \n",
      "173  Batch: J121190A; Expiration: 12/11/2021  Batch...   \n",
      "174                                            unknown   \n",
      "\n",
      "    center_classification_date  \\\n",
      "0                     20180130   \n",
      "1                     20220901   \n",
      "2                     20200728   \n",
      "3                     20201015   \n",
      "4                     20180515   \n",
      "..                         ...   \n",
      "170                   20201015   \n",
      "171                   20161122   \n",
      "172                   20180419   \n",
      "173                   20201207   \n",
      "174                   20180515   \n",
      "\n",
      "                                  distribution_pattern state  ...  \\\n",
      "0    Distributed to Coremark's 124 stores around th...    UT  ...   \n",
      "1    Nationwide - all 48 states plus Washington DC ...    UT  ...   \n",
      "2                       Nationwide in U.S. and Canada.    UT  ...   \n",
      "3    CA, CO, CT, FL, GA, TX, UT, WI. Nationwide thr...    UT  ...   \n",
      "4                                           Nationwide    UT  ...   \n",
      "..                                                 ...   ...  ...   \n",
      "170  CA, CO, CT, FL, GA, TX, UT, WI. Nationwide thr...    UT  ...   \n",
      "171  Nationwide and Canada. No other foreign and mi...    UT  ...   \n",
      "172  Nationwide.  No foreign/VA/govt/military accounts    UT  ...   \n",
      "173                                        Nationwide.    UT  ...   \n",
      "174  Recalled product was distributed to retail sto...    UT  ...   \n",
      "\n",
      "    recall_number                          initial_firm_notification  \\\n",
      "0     F-0683-2018  Two or more of the following: Email, Fax, Lett...   \n",
      "1     F-1685-2022                                             E-Mail   \n",
      "2     F-1035-2020  Two or more of the following: Email, Fax, Lett...   \n",
      "3     F-0021-2021  Two or more of the following: Email, Fax, Lett...   \n",
      "4     F-1463-2018                                      Press Release   \n",
      "..            ...                                                ...   \n",
      "170   F-0019-2021  Two or more of the following: Email, Fax, Lett...   \n",
      "171   F-0496-2017                                             Letter   \n",
      "172   F-1114-2018  Two or more of the following: Email, Fax, Lett...   \n",
      "173   F-0157-2021                                             E-Mail   \n",
      "174   F-1460-2018                                          Telephone   \n",
      "\n",
      "    product_type event_id termination_date recall_initiation_date postal_code  \\\n",
      "0           Food    78866         20180412               20180102  84118-6383   \n",
      "1           Food    90607         20230320               20220719  84123-1364   \n",
      "2           Food    85963         20220309               20200624  84003-2587   \n",
      "3           Food    86368         20210302               20200826  84115-2917   \n",
      "4           Food    80025         20220419               20180502  84663-5914   \n",
      "..           ...      ...              ...                    ...         ...   \n",
      "170         Food    86368         20210302               20200826  84115-2917   \n",
      "171         Food    75342         20170331               20160930  84042-1626   \n",
      "172         Food    79618         20180730               20180321  84119-1111   \n",
      "173         Food    86645         20210809               20201021  84104-4901   \n",
      "174         Food    79853         20190906               20180320  84115-4338   \n",
      "\n",
      "            voluntary_mandated      status more_code_info  \n",
      "0    Voluntary: Firm initiated  Terminated            NaN  \n",
      "1    Voluntary: Firm initiated  Terminated                 \n",
      "2    Voluntary: Firm initiated  Terminated            NaN  \n",
      "3    Voluntary: Firm initiated  Terminated            NaN  \n",
      "4    Voluntary: Firm initiated  Terminated            NaN  \n",
      "..                         ...         ...            ...  \n",
      "170  Voluntary: Firm initiated  Terminated            NaN  \n",
      "171  Voluntary: Firm initiated  Terminated            NaN  \n",
      "172  Voluntary: Firm initiated  Terminated                 \n",
      "173  Voluntary: Firm initiated  Terminated            NaN  \n",
      "174  Voluntary: Firm initiated  Terminated            NaN  \n",
      "\n",
      "[175 rows x 25 columns]\n"
     ]
    }
   ],
   "source": [
    "print(df)"
   ]
  },
  {
   "cell_type": "code",
   "execution_count": null,
   "metadata": {},
   "outputs": [],
   "source": []
  }
 ],
 "metadata": {
  "kernelspec": {
   "display_name": "stat386",
   "language": "python",
   "name": "python3"
  },
  "language_info": {
   "codemirror_mode": {
    "name": "ipython",
    "version": 3
   },
   "file_extension": ".py",
   "mimetype": "text/x-python",
   "name": "python",
   "nbconvert_exporter": "python",
   "pygments_lexer": "ipython3",
   "version": "3.10.12"
  }
 },
 "nbformat": 4,
 "nbformat_minor": 2
}
